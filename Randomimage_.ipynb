{
  "nbformat": 4,
  "nbformat_minor": 0,
  "metadata": {
    "colab": {
      "provenance": [],
      "authorship_tag": "ABX9TyODqVYBdDqUW7ajX51ON90Q"
    },
    "kernelspec": {
      "name": "python3",
      "display_name": "Python 3"
    },
    "language_info": {
      "name": "python"
    }
  },
  "cells": [
    {
      "cell_type": "code",
      "source": [
        "import requests\n",
        "from IPython.display import Image\n",
        "\n",
        "# 確率を0.5に設定\n",
        "probability = 0.5\n",
        "\n",
        "response = requests.get(f\"https://copper-radial-toucan.glitch.me/imagev2?foodProbability={probability}\")\n",
        "\n",
        "if response.status_code == 200:\n",
        "    image_url = response.text\n",
        "    display(Image(url=image_url, embed=True))\n",
        "else:\n",
        "    print(\"Error fetching image\")\n"
      ],
      "metadata": {
        "id": "Rh5yU0niWVgF"
      },
      "execution_count": null,
      "outputs": []
    },
    {
      "cell_type": "code",
      "source": [
        "#別サイトにリクエストするためにいるやつ\n",
        "import requests\n",
        "#画像リンクから画像ファイルに変換する\n",
        "from IPython.display import Image\n",
        "\n",
        "#APIから画像を取得\n",
        "response = requests.get(\"https://copper-radial-toucan.glitch.me/image\")\n",
        "\n",
        "#もし成功したら\n",
        "if response.status_code == 200:\n",
        "  #画像URLを返答結果に含める\n",
        "    image_url = response.text\n",
        "    #コンソールに画像を表示する\n",
        "    display(Image(url=image_url, embed=True))\n",
        "\n",
        "#結果が成功以外なら\n",
        "else:\n",
        "  #エラーであることを表示\n",
        "    print(\"画像を取得できませんでした。\")"
      ],
      "metadata": {
        "id": "EuAV8VMwKhwR"
      },
      "execution_count": null,
      "outputs": []
    }
  ]
}