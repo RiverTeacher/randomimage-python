{
  "nbformat": 4,
  "nbformat_minor": 0,
  "metadata": {
    "colab": {
      "provenance": [],
      "authorship_tag": "ABX9TyMAOz6FED/eLgeFL580+2hE"
    },
    "kernelspec": {
      "name": "python3",
      "display_name": "Python 3"
    },
    "language_info": {
      "name": "python"
    }
  },
  "cells": [
    {
      "cell_type": "code",
      "source": [
        "#別のサイトにリクエストするのに必要\n",
        "import requests\n",
        "#画像をコンソールに出す\n",
        "from IPython.display import Image\n",
        "\n",
        "#確率を設定　数が低いほどえちえちしやすい。百分率で書く。\n",
        "probability = 0.5\n",
        "\n",
        "#APIサイトに画像をリクエスト\n",
        "response = requests.get(f\"https://copper-radial-toucan.glitch.me/imagev2?foodProbability={probability}\")\n",
        "\n",
        "#成功したら\n",
        "if response.status_code == 200:\n",
        "  #取得した画像リンクを保存\n",
        "    image_url = response.text\n",
        "    #画像リンクから画像に変換してコンソールに出す\n",
        "    display(Image(url=image_url, embed=True))\n",
        "#成功以外なら(失敗の場合)\n",
        "else:\n",
        "  #エラー文を出す\n",
        "    print(\"エラーが発生しました。\")\n"
      ],
      "metadata": {
        "id": "Rh5yU0niWVgF"
      },
      "execution_count": null,
      "outputs": []
    },
    {
      "cell_type": "code",
      "source": [
        "#別サイトにリクエストするためにいるやつ\n",
        "import requests\n",
        "#画像リンクから画像ファイルに変換する\n",
        "from IPython.display import Image\n",
        "\n",
        "#APIから画像を取得\n",
        "response = requests.get(\"https://copper-radial-toucan.glitch.me/image\")\n",
        "\n",
        "#もし成功したら\n",
        "if response.status_code == 200:\n",
        "  #画像URLを返答結果に含める\n",
        "    image_url = response.text\n",
        "    #コンソールに画像を表示する\n",
        "    display(Image(url=image_url, embed=True))\n",
        "\n",
        "#結果が成功以外なら\n",
        "else:\n",
        "  #エラーであることを表示\n",
        "    print(\"画像を取得できませんでした。\")"
      ],
      "metadata": {
        "id": "EuAV8VMwKhwR"
      },
      "execution_count": null,
      "outputs": []
    }
  ]
}