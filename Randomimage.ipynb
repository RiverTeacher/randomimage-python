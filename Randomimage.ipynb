{
  "cells": [
    {
      "cell_type": "markdown",
      "metadata": {
        "id": "py3Fsg5kd_cj"
      },
      "source": [
        "# ランダムイメージV2 確率変更可能\n",
        "サーバーからランダムで画像を取得するパイソンのクライアント用コード\n",
        "\n",
        "この部分を変更することで出力される画像の確率を変更することができます。\n",
        "\n",
        "**数字が低いほどヤバい画像でやすい**\n",
        "```Python\n",
        "probability = 0.5\n",
        "```\n",
        "\n",
        "\n",
        "\n",
        "\n",
        "\n",
        "\n",
        "\n",
        "\n"
      ]
    },
    {
      "cell_type": "code",
      "execution_count": null,
      "metadata": {
        "colab": {
          "base_uri": "https://localhost:8080/"
        },
        "id": "Rh5yU0niWVgF",
        "outputId": "7738feca-6ec0-4605-baf2-e1407f5daa2f"
      },
      "outputs": [
        {
          "output_type": "stream",
          "name": "stdout",
          "text": [
            "connecting to server....\n",
            "食べ物優先度 0.5 でリクエストをしています…\n"
          ]
        }
      ],
      "source": [
        "#別のサイトにリクエストするのに必要\n",
        "import requests\n",
        "#コンソールログの制御で必要なやつ\n",
        "from IPython.display import clear_output\n",
        "#画像をコンソールに出す\n",
        "from IPython.display import Image\n",
        "\n",
        "############設定項目#############\n",
        "\n",
        "#確率を設定　数が低いほどえちえちしやすい。百分率で書く。　0.01〜0.99\n",
        "probability = 0.5\n",
        "###############################\n",
        "\n",
        "#APIサイトに画像をリクエスト\n",
        "print('connecting to server....\\n食べ物優先度',probability,'でリクエストをしています....')\n",
        "response = requests.get(f\"https://copper-radial-toucan.glitch.me/imagev2?foodProbability={probability}\")\n",
        "\n",
        "#成功したら\n",
        "if response.status_code == 200:\n",
        "    #画像をロードする準備\n",
        "    print(\"画像をロードしています....\")\n",
        "    #コンソールを一回クリアする。\n",
        "    clear_output(wait=True)\n",
        "  #取得した画像リンクを保存\n",
        "    image_url = response.text\n",
        "    #画像リンクから画像に変換してコンソールに出す\n",
        "    display(Image(url=image_url, embed=True))\n",
        "#成功以外なら(失敗の場合)\n",
        "else:\n",
        "  #エラー文を出す\n",
        "    print(\"エラーが発生しました。\")\n"
      ]
    },
    {
      "cell_type": "markdown",
      "metadata": {
        "id": "u4vTbzX7d6Sm"
      },
      "source": [
        "旧ランダムイメージ"
      ]
    },
    {
      "cell_type": "code",
      "execution_count": null,
      "metadata": {
        "id": "EuAV8VMwKhwR"
      },
      "outputs": [],
      "source": [
        "#別サイトにリクエストするためにいるやつ\n",
        "import requests\n",
        "#画像リンクから画像ファイルに変換する\n",
        "from IPython.display import Image\n",
        "\n",
        "#APIから画像を取得\n",
        "response = requests.get(\"https://copper-radial-toucan.glitch.me/image\")\n",
        "\n",
        "#もし成功したら\n",
        "if response.status_code == 200:\n",
        "  #画像URLを返答結果に含める\n",
        "    image_url = response.text\n",
        "    #コンソールに画像を表示する\n",
        "    display(Image(url=image_url, embed=True))\n",
        "\n",
        "#結果が成功以外なら\n",
        "else:\n",
        "  #エラーであることを表示\n",
        "    print(\"画像を取得できませんでした。\")"
      ]
    }
  ],
  "metadata": {
    "colab": {
      "provenance": [],
      "authorship_tag": "ABX9TyMl+lr0Yip8B9c1GHGcwYt9"
    },
    "kernelspec": {
      "display_name": "Python 3",
      "name": "python3"
    },
    "language_info": {
      "name": "python"
    }
  },
  "nbformat": 4,
  "nbformat_minor": 0
}